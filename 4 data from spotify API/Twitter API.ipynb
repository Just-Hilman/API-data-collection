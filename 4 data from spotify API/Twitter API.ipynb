{
 "cells": [
  {
   "attachments": {},
   "cell_type": "markdown",
   "metadata": {},
   "source": [
    "## Objectives\n",
    "\n",
    "*   Collect Twitter data using an API\n",
    "*   Store the data as a CSV, JSON, and XML files"
   ]
  },
  {
   "attachments": {},
   "cell_type": "markdown",
   "metadata": {},
   "source": [
    "## Imports\n",
    "\n",
    "Import any additional libraries may need here."
   ]
  },
  {
   "cell_type": "code",
   "execution_count": 1,
   "metadata": {},
   "outputs": [],
   "source": [
    "import requests\n",
    "import pandas as pd\n",
    "import json"
   ]
  },
  {
   "attachments": {},
   "cell_type": "markdown",
   "metadata": {},
   "source": [
    "## Extract Data Using an API"
   ]
  },
  {
   "attachments": {},
   "cell_type": "markdown",
   "metadata": {},
   "source": [
    "Using Twitter-API we will extract Twitter public and private data API for search, Tweets, users, followers, images, media and more."
   ]
  },
  {
   "attachments": {},
   "cell_type": "markdown",
   "metadata": {},
   "source": [
    "### Call the API"
   ]
  },
  {
   "cell_type": "code",
   "execution_count": 13,
   "metadata": {},
   "outputs": [],
   "source": [
    "url = \"https://api.apilayer.com/spotify/album_metadata?id=3CRVKRBxEq9k666FXw5w4D\"\n",
    "\n",
    "payload = {}\n",
    "headers = {\n",
    "    \"apikey\": \"RzozoKSrm6GY9AsQTUvOf4uKc7UX0ugA\"\n",
    "}\n",
    "\n",
    "response = requests.request(\"GET\", url, headers=headers, data = payload)\n",
    "\n",
    "status_code = response.status_code\n",
    "result = response.text"
   ]
  },
  {
   "cell_type": "code",
   "execution_count": 12,
   "metadata": {},
   "outputs": [
    {
     "data": {
      "text/plain": [
       "200"
      ]
     },
     "execution_count": 12,
     "metadata": {},
     "output_type": "execute_result"
    }
   ],
   "source": [
    "status_code"
   ]
  },
  {
   "cell_type": "code",
   "execution_count": 16,
   "metadata": {},
   "outputs": [],
   "source": [
    "url = \"https://api.apilayer.com/spotify/album_metadata?id=3CRVKRBxEq9k666FXw5w4D&apikey=RzozoKSrm6GY9AsQTUvOf4uKc7UX0ugA\"\n",
    "data = json.loads(requests.get(url).text)"
   ]
  },
  {
   "cell_type": "code",
   "execution_count": 18,
   "metadata": {},
   "outputs": [],
   "source": [
    "df = pd.DataFrame(data)"
   ]
  },
  {
   "cell_type": "code",
   "execution_count": 20,
   "metadata": {},
   "outputs": [],
   "source": [
    "df = pd.json_normalize(data)"
   ]
  },
  {
   "cell_type": "code",
   "execution_count": 21,
   "metadata": {},
   "outputs": [
    {
     "data": {
      "text/html": [
       "<div>\n",
       "<style scoped>\n",
       "    .dataframe tbody tr th:only-of-type {\n",
       "        vertical-align: middle;\n",
       "    }\n",
       "\n",
       "    .dataframe tbody tr th {\n",
       "        vertical-align: top;\n",
       "    }\n",
       "\n",
       "    .dataframe thead th {\n",
       "        text-align: right;\n",
       "    }\n",
       "</style>\n",
       "<table border=\"1\" class=\"dataframe\">\n",
       "  <thead>\n",
       "    <tr style=\"text-align: right;\">\n",
       "      <th></th>\n",
       "      <th>data.album.uri</th>\n",
       "      <th>data.album.name</th>\n",
       "      <th>data.album.artists.totalCount</th>\n",
       "      <th>data.album.artists.items</th>\n",
       "      <th>data.album.coverArt.extractedColors.colorRaw.hex</th>\n",
       "      <th>data.album.coverArt.sources</th>\n",
       "      <th>data.album.discs.totalCount</th>\n",
       "      <th>data.album.discs.items</th>\n",
       "      <th>data.album.tracks.totalCount</th>\n",
       "      <th>data.album.tracks.items</th>\n",
       "      <th>...</th>\n",
       "      <th>data.album.label</th>\n",
       "      <th>data.album.copyright.totalCount</th>\n",
       "      <th>data.album.copyright.items</th>\n",
       "      <th>data.album.courtesyLine</th>\n",
       "      <th>data.album.saved</th>\n",
       "      <th>data.album.sharingInfo.shareUrl</th>\n",
       "      <th>data.album.sharingInfo.shareId</th>\n",
       "      <th>data.album.moreAlbumsByArtist.items</th>\n",
       "      <th>extensions.cacheControl.version</th>\n",
       "      <th>extensions.cacheControl.hints</th>\n",
       "    </tr>\n",
       "  </thead>\n",
       "  <tbody>\n",
       "    <tr>\n",
       "      <th>0</th>\n",
       "      <td>spotify:album:3CRVKRBxEq9k666FXw5w4D</td>\n",
       "      <td>Fortune Cookies in Love</td>\n",
       "      <td>1</td>\n",
       "      <td>[{'uri': 'spotify:artist:2l8I5pWUnfF7bMK1z6EJR...</td>\n",
       "      <td>#E00078</td>\n",
       "      <td>[{'url': 'https://i.scdn.co/image/ab67616d0000...</td>\n",
       "      <td>1</td>\n",
       "      <td>[{'number': 1, 'tracks': {'totalCount': 4}}]</td>\n",
       "      <td>4</td>\n",
       "      <td>[{'track': {'playability': {'playable': True, ...</td>\n",
       "      <td>...</td>\n",
       "      <td>Indonesia Musik Nusantara</td>\n",
       "      <td>2</td>\n",
       "      <td>[{'type': 'C', 'text': '2013 JKT48'}, {'type':...</td>\n",
       "      <td></td>\n",
       "      <td>False</td>\n",
       "      <td>https://open.spotify.com/album/3CRVKRBxEq9k666...</td>\n",
       "      <td>BNrevqj-S6mAF9B1LeXDgg</td>\n",
       "      <td>[{'discography': {'popularReleases': {'items':...</td>\n",
       "      <td>1</td>\n",
       "      <td>[]</td>\n",
       "    </tr>\n",
       "  </tbody>\n",
       "</table>\n",
       "<p>1 rows × 27 columns</p>\n",
       "</div>"
      ],
      "text/plain": [
       "                         data.album.uri          data.album.name  \\\n",
       "0  spotify:album:3CRVKRBxEq9k666FXw5w4D  Fortune Cookies in Love   \n",
       "\n",
       "   data.album.artists.totalCount  \\\n",
       "0                              1   \n",
       "\n",
       "                            data.album.artists.items  \\\n",
       "0  [{'uri': 'spotify:artist:2l8I5pWUnfF7bMK1z6EJR...   \n",
       "\n",
       "  data.album.coverArt.extractedColors.colorRaw.hex  \\\n",
       "0                                          #E00078   \n",
       "\n",
       "                         data.album.coverArt.sources  \\\n",
       "0  [{'url': 'https://i.scdn.co/image/ab67616d0000...   \n",
       "\n",
       "   data.album.discs.totalCount                        data.album.discs.items  \\\n",
       "0                            1  [{'number': 1, 'tracks': {'totalCount': 4}}]   \n",
       "\n",
       "   data.album.tracks.totalCount  \\\n",
       "0                             4   \n",
       "\n",
       "                             data.album.tracks.items  ...  \\\n",
       "0  [{'track': {'playability': {'playable': True, ...  ...   \n",
       "\n",
       "            data.album.label data.album.copyright.totalCount  \\\n",
       "0  Indonesia Musik Nusantara                               2   \n",
       "\n",
       "                          data.album.copyright.items data.album.courtesyLine  \\\n",
       "0  [{'type': 'C', 'text': '2013 JKT48'}, {'type':...                           \n",
       "\n",
       "  data.album.saved                    data.album.sharingInfo.shareUrl  \\\n",
       "0            False  https://open.spotify.com/album/3CRVKRBxEq9k666...   \n",
       "\n",
       "  data.album.sharingInfo.shareId  \\\n",
       "0         BNrevqj-S6mAF9B1LeXDgg   \n",
       "\n",
       "                 data.album.moreAlbumsByArtist.items  \\\n",
       "0  [{'discography': {'popularReleases': {'items':...   \n",
       "\n",
       "   extensions.cacheControl.version extensions.cacheControl.hints  \n",
       "0                                1                            []  \n",
       "\n",
       "[1 rows x 27 columns]"
      ]
     },
     "execution_count": 21,
     "metadata": {},
     "output_type": "execute_result"
    }
   ],
   "source": [
    "df"
   ]
  },
  {
   "cell_type": "code",
   "execution_count": 23,
   "metadata": {},
   "outputs": [
    {
     "ename": "KeyError",
     "evalue": "'label'",
     "output_type": "error",
     "traceback": [
      "\u001b[1;31m---------------------------------------------------------------------------\u001b[0m",
      "\u001b[1;31mKeyError\u001b[0m                                  Traceback (most recent call last)",
      "Cell \u001b[1;32mIn[23], line 2\u001b[0m\n\u001b[0;32m      1\u001b[0m df1 \u001b[39m=\u001b[39m pd\u001b[39m.\u001b[39mDataFrame(columns\u001b[39m=\u001b[39m[\u001b[39m\"\u001b[39m\u001b[39mAlbum name\u001b[39m\u001b[39m\"\u001b[39m, \u001b[39m\"\u001b[39m\u001b[39mAlbum Label\u001b[39m\u001b[39m\"\u001b[39m])\n\u001b[1;32m----> 2\u001b[0m \u001b[39mfor\u001b[39;00m i,j \u001b[39min\u001b[39;00m data[\u001b[39m'\u001b[39;49m\u001b[39mlabel\u001b[39;49m\u001b[39m'\u001b[39;49m]\u001b[39m.\u001b[39mitems():\n\u001b[0;32m      3\u001b[0m     df1\u001b[39m.\u001b[39mappend({\u001b[39m\"\u001b[39m\u001b[39mAlbum name\u001b[39m\u001b[39m\"\u001b[39m: i, \u001b[39m\"\u001b[39m\u001b[39mAlbum Label\u001b[39m\u001b[39m\"\u001b[39m: j}, ignore_index\u001b[39m=\u001b[39m\u001b[39mTrue\u001b[39;00m)\n",
      "\u001b[1;31mKeyError\u001b[0m: 'label'"
     ]
    }
   ],
   "source": [
    "df1 = pd.DataFrame(columns=[\"Album name\", \"Album Label\"])\n",
    "for i,j in data['label'].items():\n",
    "    df1.append({\"Album name\": i, \"Album Label\": j}, ignore_index=True)"
   ]
  }
 ],
 "metadata": {
  "kernelspec": {
   "display_name": "Python 3",
   "language": "python",
   "name": "python3"
  },
  "language_info": {
   "codemirror_mode": {
    "name": "ipython",
    "version": 3
   },
   "file_extension": ".py",
   "mimetype": "text/x-python",
   "name": "python",
   "nbconvert_exporter": "python",
   "pygments_lexer": "ipython3",
   "version": "3.9.2"
  },
  "orig_nbformat": 4
 },
 "nbformat": 4,
 "nbformat_minor": 2
}
