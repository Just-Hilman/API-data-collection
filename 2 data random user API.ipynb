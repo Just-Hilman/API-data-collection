{
 "cells": [
  {
   "attachments": {},
   "cell_type": "markdown",
   "metadata": {},
   "source": [
    "## RandomUser API\n",
    "Bellow are Get Methods parameters that we can generate. For more information on the parameters, please visit this [documentation](https://randomuser.me/documentation?utm_medium=Exinfluencer&utm_source=Exinfluencer&utm_content=000026UJ&utm_term=10006555&utm_id=NA-SkillsNetwork-Channel-SkillsNetworkCoursesIBMDeveloperSkillsNetworkPY0101ENSkillsNetwork1005-2022-01-01) page.\n"
   ]
  },
  {
   "attachments": {},
   "cell_type": "markdown",
   "metadata": {},
   "source": [
    "## **Get Methods**\n",
    "\n",
    "- get_cell()\n",
    "- get_city()\n",
    "- get_dob()\n",
    "- get_email()\n",
    "- get_first_name()\n",
    "- get_full_name()\n",
    "- get_gender()\n",
    "- get_id()\n",
    "- get_id_number()\n",
    "- get_id_type()\n",
    "- get_info()\n",
    "- get_last_name()\n",
    "- get_login_md5()\n",
    "- get_login_salt()\n",
    "- get_login_sha1()\n",
    "- get_login_sha256()\n",
    "- get_nat()\n",
    "- get_password()\n",
    "- get_phone()\n",
    "- get_picture()\n",
    "- get_postcode()\n",
    "- get_registered()\n",
    "- get_state()\n",
    "- get_street()\n",
    "- get_username()\n",
    "- get_zipcode()"
   ]
  },
  {
   "attachments": {},
   "cell_type": "markdown",
   "metadata": {},
   "source": [
    "To start using the API you can install the `randomuser` library running the `pip install` command."
   ]
  },
  {
   "cell_type": "code",
   "execution_count": 1,
   "metadata": {},
   "outputs": [
    {
     "name": "stdout",
     "output_type": "stream",
     "text": [
      "Requirement already satisfied: randomuser in c:\\users\\hilman\\appdata\\local\\programs\\python\\python39\\lib\\site-packages (1.6)\n"
     ]
    },
    {
     "name": "stderr",
     "output_type": "stream",
     "text": [
      "\n",
      "[notice] A new release of pip available: 22.3 -> 23.0.1\n",
      "[notice] To update, run: python.exe -m pip install --upgrade pip\n"
     ]
    }
   ],
   "source": [
    "!pip install randomuser"
   ]
  },
  {
   "attachments": {},
   "cell_type": "markdown",
   "metadata": {},
   "source": [
    "Then, we will load the necessary libraries."
   ]
  },
  {
   "cell_type": "code",
   "execution_count": 2,
   "metadata": {},
   "outputs": [],
   "source": [
    "from randomuser import RandomUser\n",
    "import pandas as pd"
   ]
  },
  {
   "attachments": {},
   "cell_type": "markdown",
   "metadata": {},
   "source": [
    "Create variable r"
   ]
  },
  {
   "cell_type": "code",
   "execution_count": 3,
   "metadata": {},
   "outputs": [],
   "source": [
    "r = RandomUser()"
   ]
  },
  {
   "attachments": {},
   "cell_type": "markdown",
   "metadata": {},
   "source": [
    "Then, using `generate_users()` function, we will get a list of random 10 users."
   ]
  },
  {
   "cell_type": "code",
   "execution_count": 4,
   "metadata": {},
   "outputs": [
    {
     "data": {
      "text/plain": [
       "[<randomuser.RandomUser at 0x1a2bf308520>,\n",
       " <randomuser.RandomUser at 0x1a2bf3091f0>,\n",
       " <randomuser.RandomUser at 0x1a2bf3093d0>,\n",
       " <randomuser.RandomUser at 0x1a2bf28d850>,\n",
       " <randomuser.RandomUser at 0x1a2c7545580>,\n",
       " <randomuser.RandomUser at 0x1a2c75455e0>,\n",
       " <randomuser.RandomUser at 0x1a2c7545550>,\n",
       " <randomuser.RandomUser at 0x1a2c7545430>,\n",
       " <randomuser.RandomUser at 0x1a2c75456a0>,\n",
       " <randomuser.RandomUser at 0x1a2c7545640>]"
      ]
     },
     "execution_count": 4,
     "metadata": {},
     "output_type": "execute_result"
    }
   ],
   "source": [
    "some_list = r.generate_users(10)\n",
    "some_list"
   ]
  },
  {
   "attachments": {},
   "cell_type": "markdown",
   "metadata": {},
   "source": [
    "The **\"Get Methods\"** functions mentioned at the beginning of this notebook, can generate the required parameters to construct a dataset. For example, to get full name, we call `get_full_name()` function."
   ]
  },
  {
   "cell_type": "code",
   "execution_count": 5,
   "metadata": {},
   "outputs": [],
   "source": [
    "name = r.get_full_name()"
   ]
  },
  {
   "cell_type": "code",
   "execution_count": 7,
   "metadata": {},
   "outputs": [
    {
     "data": {
      "text/plain": [
       "'Susan Lord'"
      ]
     },
     "execution_count": 7,
     "metadata": {},
     "output_type": "execute_result"
    }
   ],
   "source": [
    "name"
   ]
  },
  {
   "attachments": {},
   "cell_type": "markdown",
   "metadata": {},
   "source": [
    "Let's say we only need 10 users with full names and their email addresses. We can write a \"for-loop\" to print these 10 users."
   ]
  },
  {
   "cell_type": "code",
   "execution_count": 6,
   "metadata": {},
   "outputs": [
    {
     "name": "stdout",
     "output_type": "stream",
     "text": [
      "Fausto Le Gall email address -> fausto.legall@example.com\n",
      "Ted Sutton email address -> ted.sutton@example.com\n",
      "Ted Wright email address -> ted.wright@example.com\n",
      "Linnea Niemi email address -> linnea.niemi@example.com\n",
      "Karen Wallace email address -> karen.wallace@example.com\n",
      "Marie Diaz email address -> marie.diaz@example.com\n",
      "Charles Renaud email address -> charles.renaud@example.com\n",
      "Marcus Kristensen email address -> marcus.kristensen@example.com\n",
      "Beatrice French email address -> beatrice.french@example.com\n",
      "Toivo Rantanen email address -> toivo.rantanen@example.com\n"
     ]
    }
   ],
   "source": [
    "for user in some_list:\n",
    "    print(user.get_full_name(), \"email address ->\", user.get_email())"
   ]
  },
  {
   "attachments": {},
   "cell_type": "markdown",
   "metadata": {},
   "source": [
    "Generate photos of the random 5 users."
   ]
  },
  {
   "cell_type": "code",
   "execution_count": 8,
   "metadata": {},
   "outputs": [
    {
     "name": "stdout",
     "output_type": "stream",
     "text": [
      "https://randomuser.me/api/portraits/men/77.jpg\n",
      "https://randomuser.me/api/portraits/men/11.jpg\n",
      "https://randomuser.me/api/portraits/men/24.jpg\n",
      "https://randomuser.me/api/portraits/women/2.jpg\n",
      "https://randomuser.me/api/portraits/women/4.jpg\n",
      "https://randomuser.me/api/portraits/women/13.jpg\n",
      "https://randomuser.me/api/portraits/men/2.jpg\n",
      "https://randomuser.me/api/portraits/men/21.jpg\n",
      "https://randomuser.me/api/portraits/women/50.jpg\n",
      "https://randomuser.me/api/portraits/men/93.jpg\n"
     ]
    }
   ],
   "source": [
    "for user in some_list:\n",
    "    print(user.get_picture())"
   ]
  },
  {
   "attachments": {},
   "cell_type": "markdown",
   "metadata": {},
   "source": [
    "To generate a table with information about the users, we can write a function containing all desirable parameters. For example, name, gender, city, etc. The parameters will depend on the requirements of the test to be performed. We call the Get Methods, listed at the beginning of this notebook. Then, we return pandas dataframe with the users."
   ]
  },
  {
   "cell_type": "code",
   "execution_count": 20,
   "metadata": {},
   "outputs": [],
   "source": [
    "def get_users():\n",
    "    users = []\n",
    "\n",
    "    for user in RandomUser.generate_users(10):\n",
    "        users.append({\"Name\": user.get_full_name(), \"Gender\": user.get_gender(), \"City\": user.get_city(), \"State\":user.get_state(), \"Email\": user.get_email(), \"DOB\": user.get_dob(), \"Picture\": user.get_picture()})\n",
    "    \n",
    "    return pd.DataFrame(users)"
   ]
  },
  {
   "cell_type": "code",
   "execution_count": 21,
   "metadata": {},
   "outputs": [
    {
     "data": {
      "text/html": [
       "<div>\n",
       "<style scoped>\n",
       "    .dataframe tbody tr th:only-of-type {\n",
       "        vertical-align: middle;\n",
       "    }\n",
       "\n",
       "    .dataframe tbody tr th {\n",
       "        vertical-align: top;\n",
       "    }\n",
       "\n",
       "    .dataframe thead th {\n",
       "        text-align: right;\n",
       "    }\n",
       "</style>\n",
       "<table border=\"1\" class=\"dataframe\">\n",
       "  <thead>\n",
       "    <tr style=\"text-align: right;\">\n",
       "      <th></th>\n",
       "      <th>Name</th>\n",
       "      <th>Gender</th>\n",
       "      <th>City</th>\n",
       "      <th>State</th>\n",
       "      <th>Email</th>\n",
       "      <th>DOB</th>\n",
       "      <th>Picture</th>\n",
       "    </tr>\n",
       "  </thead>\n",
       "  <tbody>\n",
       "    <tr>\n",
       "      <th>0</th>\n",
       "      <td>Owen Little</td>\n",
       "      <td>male</td>\n",
       "      <td>Oceanside</td>\n",
       "      <td>Utah</td>\n",
       "      <td>owen.little@example.com</td>\n",
       "      <td>1946-12-24T08:19:40.908Z</td>\n",
       "      <td>https://randomuser.me/api/portraits/men/10.jpg</td>\n",
       "    </tr>\n",
       "    <tr>\n",
       "      <th>1</th>\n",
       "      <td>Mestan Kaya</td>\n",
       "      <td>female</td>\n",
       "      <td>Rize</td>\n",
       "      <td>Şırnak</td>\n",
       "      <td>mestan.kaya@example.com</td>\n",
       "      <td>1973-03-23T05:54:29.678Z</td>\n",
       "      <td>https://randomuser.me/api/portraits/women/79.jpg</td>\n",
       "    </tr>\n",
       "    <tr>\n",
       "      <th>2</th>\n",
       "      <td>Alberto Nichols</td>\n",
       "      <td>male</td>\n",
       "      <td>Oakland</td>\n",
       "      <td>Maine</td>\n",
       "      <td>alberto.nichols@example.com</td>\n",
       "      <td>1991-12-21T01:21:36.442Z</td>\n",
       "      <td>https://randomuser.me/api/portraits/men/0.jpg</td>\n",
       "    </tr>\n",
       "    <tr>\n",
       "      <th>3</th>\n",
       "      <td>اميرحسين سهيلي راد</td>\n",
       "      <td>male</td>\n",
       "      <td>ورامین</td>\n",
       "      <td>سیستان و بلوچستان</td>\n",
       "      <td>myrhsyn.shylyrd@example.com</td>\n",
       "      <td>1978-01-16T14:11:58.875Z</td>\n",
       "      <td>https://randomuser.me/api/portraits/men/46.jpg</td>\n",
       "    </tr>\n",
       "    <tr>\n",
       "      <th>4</th>\n",
       "      <td>Theo Taylor</td>\n",
       "      <td>male</td>\n",
       "      <td>Melbourne</td>\n",
       "      <td>Northwest Territories</td>\n",
       "      <td>theo.taylor@example.com</td>\n",
       "      <td>1957-11-12T20:00:57.182Z</td>\n",
       "      <td>https://randomuser.me/api/portraits/men/9.jpg</td>\n",
       "    </tr>\n",
       "    <tr>\n",
       "      <th>5</th>\n",
       "      <td>Özsu Koyuncu</td>\n",
       "      <td>female</td>\n",
       "      <td>Kırşehir</td>\n",
       "      <td>Adıyaman</td>\n",
       "      <td>ozsu.koyuncu@example.com</td>\n",
       "      <td>1996-11-09T15:40:24.708Z</td>\n",
       "      <td>https://randomuser.me/api/portraits/women/1.jpg</td>\n",
       "    </tr>\n",
       "    <tr>\n",
       "      <th>6</th>\n",
       "      <td>Maélie Lefebvre</td>\n",
       "      <td>female</td>\n",
       "      <td>Aulnay-sous-Bois</td>\n",
       "      <td>Alpes-de-Haute-Provence</td>\n",
       "      <td>maelie.lefebvre@example.com</td>\n",
       "      <td>1981-06-11T10:55:14.896Z</td>\n",
       "      <td>https://randomuser.me/api/portraits/women/47.jpg</td>\n",
       "    </tr>\n",
       "    <tr>\n",
       "      <th>7</th>\n",
       "      <td>Nilda Pires</td>\n",
       "      <td>female</td>\n",
       "      <td>Várzea Grande</td>\n",
       "      <td>Pernambuco</td>\n",
       "      <td>nilda.pires@example.com</td>\n",
       "      <td>1965-09-06T18:26:25.205Z</td>\n",
       "      <td>https://randomuser.me/api/portraits/women/52.jpg</td>\n",
       "    </tr>\n",
       "    <tr>\n",
       "      <th>8</th>\n",
       "      <td>Ian Reetz</td>\n",
       "      <td>male</td>\n",
       "      <td>Altenkirchen (Westerwald)</td>\n",
       "      <td>Mecklenburg-Vorpommern</td>\n",
       "      <td>ian.reetz@example.com</td>\n",
       "      <td>1973-04-30T17:57:52.542Z</td>\n",
       "      <td>https://randomuser.me/api/portraits/men/3.jpg</td>\n",
       "    </tr>\n",
       "    <tr>\n",
       "      <th>9</th>\n",
       "      <td>Francisca Ramos</td>\n",
       "      <td>female</td>\n",
       "      <td>Móstoles</td>\n",
       "      <td>Andalucía</td>\n",
       "      <td>francisca.ramos@example.com</td>\n",
       "      <td>1955-04-06T14:35:13.588Z</td>\n",
       "      <td>https://randomuser.me/api/portraits/women/17.jpg</td>\n",
       "    </tr>\n",
       "  </tbody>\n",
       "</table>\n",
       "</div>"
      ],
      "text/plain": [
       "                 Name  Gender                       City  \\\n",
       "0         Owen Little    male                  Oceanside   \n",
       "1         Mestan Kaya  female                       Rize   \n",
       "2     Alberto Nichols    male                    Oakland   \n",
       "3  اميرحسين سهيلي راد    male                     ورامین   \n",
       "4         Theo Taylor    male                  Melbourne   \n",
       "5        Özsu Koyuncu  female                   Kırşehir   \n",
       "6     Maélie Lefebvre  female           Aulnay-sous-Bois   \n",
       "7         Nilda Pires  female              Várzea Grande   \n",
       "8           Ian Reetz    male  Altenkirchen (Westerwald)   \n",
       "9     Francisca Ramos  female                   Móstoles   \n",
       "\n",
       "                     State                        Email  \\\n",
       "0                     Utah      owen.little@example.com   \n",
       "1                   Şırnak      mestan.kaya@example.com   \n",
       "2                    Maine  alberto.nichols@example.com   \n",
       "3        سیستان و بلوچستان  myrhsyn.shylyrd@example.com   \n",
       "4    Northwest Territories      theo.taylor@example.com   \n",
       "5                 Adıyaman     ozsu.koyuncu@example.com   \n",
       "6  Alpes-de-Haute-Provence  maelie.lefebvre@example.com   \n",
       "7               Pernambuco      nilda.pires@example.com   \n",
       "8   Mecklenburg-Vorpommern        ian.reetz@example.com   \n",
       "9                Andalucía  francisca.ramos@example.com   \n",
       "\n",
       "                        DOB                                           Picture  \n",
       "0  1946-12-24T08:19:40.908Z    https://randomuser.me/api/portraits/men/10.jpg  \n",
       "1  1973-03-23T05:54:29.678Z  https://randomuser.me/api/portraits/women/79.jpg  \n",
       "2  1991-12-21T01:21:36.442Z     https://randomuser.me/api/portraits/men/0.jpg  \n",
       "3  1978-01-16T14:11:58.875Z    https://randomuser.me/api/portraits/men/46.jpg  \n",
       "4  1957-11-12T20:00:57.182Z     https://randomuser.me/api/portraits/men/9.jpg  \n",
       "5  1996-11-09T15:40:24.708Z   https://randomuser.me/api/portraits/women/1.jpg  \n",
       "6  1981-06-11T10:55:14.896Z  https://randomuser.me/api/portraits/women/47.jpg  \n",
       "7  1965-09-06T18:26:25.205Z  https://randomuser.me/api/portraits/women/52.jpg  \n",
       "8  1973-04-30T17:57:52.542Z     https://randomuser.me/api/portraits/men/3.jpg  \n",
       "9  1955-04-06T14:35:13.588Z  https://randomuser.me/api/portraits/women/17.jpg  "
      ]
     },
     "execution_count": 21,
     "metadata": {},
     "output_type": "execute_result"
    }
   ],
   "source": [
    "get_users()"
   ]
  },
  {
   "cell_type": "code",
   "execution_count": 22,
   "metadata": {},
   "outputs": [],
   "source": [
    "df = pd.DataFrame(get_users())"
   ]
  },
  {
   "attachments": {},
   "cell_type": "markdown",
   "metadata": {},
   "source": [
    "Now we have a *pandas* dataframe that can be used for any testing purposes that the tester might have."
   ]
  }
 ],
 "metadata": {
  "kernelspec": {
   "display_name": "Python 3",
   "language": "python",
   "name": "python3"
  },
  "language_info": {
   "codemirror_mode": {
    "name": "ipython",
    "version": 3
   },
   "file_extension": ".py",
   "mimetype": "text/x-python",
   "name": "python",
   "nbconvert_exporter": "python",
   "pygments_lexer": "ipython3",
   "version": "3.9.2"
  },
  "orig_nbformat": 4
 },
 "nbformat": 4,
 "nbformat_minor": 2
}
