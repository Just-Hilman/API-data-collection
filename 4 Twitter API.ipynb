{
 "cells": [
  {
   "attachments": {},
   "cell_type": "markdown",
   "metadata": {},
   "source": [
    "## Objectives\n",
    "\n",
    "*   Collect Twitter data using an API\n",
    "*   Store the data as a CSV, JSON, and XML files"
   ]
  },
  {
   "attachments": {},
   "cell_type": "markdown",
   "metadata": {},
   "source": [
    "## Imports\n",
    "\n",
    "Import any additional libraries may need here."
   ]
  },
  {
   "cell_type": "code",
   "execution_count": 1,
   "metadata": {},
   "outputs": [],
   "source": [
    "import requests\n",
    "import pandas as pd\n",
    "import json"
   ]
  },
  {
   "attachments": {},
   "cell_type": "markdown",
   "metadata": {},
   "source": [
    "## Extract Data Using an API"
   ]
  },
  {
   "attachments": {},
   "cell_type": "markdown",
   "metadata": {},
   "source": [
    "Using Twitter-API we will extract Twitter public and private data API for search, Tweets, users, followers, images, media and more."
   ]
  },
  {
   "attachments": {},
   "cell_type": "markdown",
   "metadata": {},
   "source": [
    "### Call the API"
   ]
  },
  {
   "cell_type": "code",
   "execution_count": 2,
   "metadata": {},
   "outputs": [],
   "source": [
    "url = \"https://twitter-data1.p.rapidapi.com/Followers/\"\n",
    "\n",
    "# querystring = {\"id\":\"replace with rest id\", \"count\":\"41\"}\n",
    "\n",
    "headers = {\n",
    "    \"X-RapidAPI-Key\": \"a6129818camshba593fc1a0fb7dbp109dabjsn602bb7495377\",\n",
    "    \"X-RapidAPI-Host\": \"twitter-data1.p.rapidapi.com\"\n",
    "}\n",
    "\n",
    "response = requests.request(\"GET\", url, headers=headers, params=querystring)"
   ]
  },
  {
   "cell_type": "code",
   "execution_count": 3,
   "metadata": {},
   "outputs": [
    {
     "name": "stdout",
     "output_type": "stream",
     "text": [
      "<Response [200]>\n"
     ]
    }
   ],
   "source": [
    "print(response)"
   ]
  },
  {
   "cell_type": "code",
   "execution_count": 4,
   "metadata": {},
   "outputs": [],
   "source": [
    "data = json.loads(requests.get(url, headers=headers, params=querystring).text)"
   ]
  },
  {
   "cell_type": "code",
   "execution_count": null,
   "metadata": {},
   "outputs": [],
   "source": [
    "data"
   ]
  },
  {
   "cell_type": "code",
   "execution_count": 6,
   "metadata": {},
   "outputs": [],
   "source": [
    "data_to_collect = data[\"data\"][\"user\"][\"result\"][\"timeline\"][\"timeline\"][\"instructions\"][3][\"entries\"]"
   ]
  },
  {
   "cell_type": "code",
   "execution_count": null,
   "metadata": {},
   "outputs": [],
   "source": [
    "data_to_collect[0:-2]"
   ]
  },
  {
   "cell_type": "code",
   "execution_count": 8,
   "metadata": {},
   "outputs": [],
   "source": [
    "user_data = pd.DataFrame(columns=[\"id\", \"rest_id\", \"name\", \"user_name\", \"created_at\", \"likes_count\", \"followers_count\", \"following_count\", \"media_count\", \"status_count\", \"verified\"])\n",
    "\n",
    "for data in data_to_collect[0:-2]:\n",
    "    id = data[\"content\"][\"itemContent\"][\"user_results\"][\"result\"][\"id\"]\n",
    "    rest_id = data[\"content\"][\"itemContent\"][\"user_results\"][\"result\"][\"rest_id\"]\n",
    "    name = data[\"content\"][\"itemContent\"][\"user_results\"][\"result\"][\"legacy\"][\"name\"]\n",
    "    user_name = data[\"content\"][\"itemContent\"][\"user_results\"][\"result\"][\"legacy\"][\"screen_name\"]\n",
    "    created_at = data[\"content\"][\"itemContent\"][\"user_results\"][\"result\"][\"legacy\"][\"created_at\"]\n",
    "    likes_count = data[\"content\"][\"itemContent\"][\"user_results\"][\"result\"][\"legacy\"][\"favourites_count\"]\n",
    "    followers_count = data[\"content\"][\"itemContent\"][\"user_results\"][\"result\"][\"legacy\"][\"followers_count\"]\n",
    "    following_count = data[\"content\"][\"itemContent\"][\"user_results\"][\"result\"][\"legacy\"][\"friends_count\"]\n",
    "    media_count = data[\"content\"][\"itemContent\"][\"user_results\"][\"result\"][\"legacy\"][\"media_count\"]\n",
    "    status_count = data[\"content\"][\"itemContent\"][\"user_results\"][\"result\"][\"legacy\"][\"statuses_count\"]\n",
    "    verified = data[\"content\"][\"itemContent\"][\"user_results\"][\"result\"][\"legacy\"][\"verified\"]\n",
    "    user_data = user_data.append({\"id\": id, \"rest_id\": rest_id, \"name\": name, \"user_name\": user_name, \"created_at\": created_at, \"likes_count\": likes_count, \"followers_count\": followers_count, \"following_count\": following_count, \"media_count\": media_count, \"status_count\": status_count, \"verified\": verified}, ignore_index=True)"
   ]
  },
  {
   "cell_type": "code",
   "execution_count": null,
   "metadata": {},
   "outputs": [],
   "source": [
    "user_data"
   ]
  },
  {
   "cell_type": "code",
   "execution_count": 12,
   "metadata": {},
   "outputs": [],
   "source": [
    "user_data['created_at'] = user_data['created_at'].str[-4:]"
   ]
  },
  {
   "cell_type": "code",
   "execution_count": null,
   "metadata": {},
   "outputs": [],
   "source": [
    "user_data"
   ]
  },
  {
   "cell_type": "code",
   "execution_count": 28,
   "metadata": {},
   "outputs": [
    {
     "data": {
      "text/plain": [
       "3"
      ]
     },
     "execution_count": 28,
     "metadata": {},
     "output_type": "execute_result"
    }
   ],
   "source": [
    "sum(user_data['verified'] == True)"
   ]
  }
 ],
 "metadata": {
  "kernelspec": {
   "display_name": "Python 3",
   "language": "python",
   "name": "python3"
  },
  "language_info": {
   "codemirror_mode": {
    "name": "ipython",
    "version": 3
   },
   "file_extension": ".py",
   "mimetype": "text/x-python",
   "name": "python",
   "nbconvert_exporter": "python",
   "pygments_lexer": "ipython3",
   "version": "3.10.10"
  },
  "orig_nbformat": 4
 },
 "nbformat": 4,
 "nbformat_minor": 2
}
